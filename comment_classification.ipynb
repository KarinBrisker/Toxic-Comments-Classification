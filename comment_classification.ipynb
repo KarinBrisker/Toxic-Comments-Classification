{
 "cells": [
  {
   "cell_type": "markdown",
   "metadata": {},
   "source": [
    "# toxic comments classification\n",
    "## by Karin Brisker\n",
    "\n",
    "\n",
    "\n"
   ]
  },
  {
   "cell_type": "markdown",
   "metadata": {},
   "source": [
    "### imports"
   ]
  },
  {
   "cell_type": "code",
   "execution_count": 143,
   "metadata": {},
   "outputs": [],
   "source": [
    "%matplotlib inline\n",
    "\n",
    "import matplotlib\n",
    "import matplotlib.pyplot as plt\n",
    "import seaborn as sns\n",
    "\n",
    "import pandas as pd\n",
    "import numpy as np\n",
    "import re\n",
    "import os\n",
    "import time\n",
    "\n",
    "import torch\n",
    "import torch.nn as nn\n",
    "from torch.autograd import Variable\n",
    "from torch.nn import functional as F\n",
    "import torch.optim as optim\n",
    "from nltk.corpus import stopwords\n",
    "from nltk.stem import SnowballStemmer\n",
    "from flair.embeddings import WordEmbeddings\n",
    "\n",
    "from sklearn.naive_bayes import MultinomialNB\n",
    "from xgboost import XGBClassifier\n",
    "import sklearn\n",
    "\n",
    "from sklearn.feature_extraction.text import CountVectorizer, TfidfTransformer\n",
    "from sklearn.ensemble import ExtraTreesClassifier\n",
    "from sklearn.linear_model import LogisticRegression, SGDClassifier\n",
    "\n",
    "from sklearn.pipeline import Pipeline\n",
    "from sklearn.metrics import accuracy_score\n",
    "from sklearn.multiclass import OneVsRestClassifier\n",
    "\n",
    "import warnings\n",
    "warnings.filterwarnings('ignore')\n",
    "\n",
    "sns.set(style=\"darkgrid\")\n",
    "sns.set_palette(\"pastel\")"
   ]
  },
  {
   "cell_type": "code",
   "execution_count": 154,
   "metadata": {},
   "outputs": [
    {
     "name": "stdout",
     "output_type": "stream",
     "text": [
      "Train shape:  (159571, 8)\n",
      "Test shape:  (153164, 2)\n"
     ]
    }
   ],
   "source": [
    "# load data\n",
    "train_df = pd.read_csv('./Data/train.csv')\n",
    "test_df = pd.read_csv('./Data/test.csv')\n",
    "print('Train shape: ', train_df.shape)\n",
    "print('Test shape: ', test_df.shape) "
   ]
  },
  {
   "cell_type": "code",
   "execution_count": 125,
   "metadata": {},
   "outputs": [
    {
     "data": {
      "text/html": [
       "<div>\n",
       "<style scoped>\n",
       "    .dataframe tbody tr th:only-of-type {\n",
       "        vertical-align: middle;\n",
       "    }\n",
       "\n",
       "    .dataframe tbody tr th {\n",
       "        vertical-align: top;\n",
       "    }\n",
       "\n",
       "    .dataframe thead th {\n",
       "        text-align: right;\n",
       "    }\n",
       "</style>\n",
       "<table border=\"1\" class=\"dataframe\">\n",
       "  <thead>\n",
       "    <tr style=\"text-align: right;\">\n",
       "      <th></th>\n",
       "      <th>id</th>\n",
       "      <th>comment_text</th>\n",
       "      <th>toxic</th>\n",
       "      <th>severe_toxic</th>\n",
       "      <th>obscene</th>\n",
       "      <th>threat</th>\n",
       "      <th>insult</th>\n",
       "      <th>identity_hate</th>\n",
       "    </tr>\n",
       "  </thead>\n",
       "  <tbody>\n",
       "    <tr>\n",
       "      <th>0</th>\n",
       "      <td>0000997932d777bf</td>\n",
       "      <td>Explanation\\nWhy the edits made under my usern...</td>\n",
       "      <td>0</td>\n",
       "      <td>0</td>\n",
       "      <td>0</td>\n",
       "      <td>0</td>\n",
       "      <td>0</td>\n",
       "      <td>0</td>\n",
       "    </tr>\n",
       "    <tr>\n",
       "      <th>1</th>\n",
       "      <td>000103f0d9cfb60f</td>\n",
       "      <td>D'aww! He matches this background colour I'm s...</td>\n",
       "      <td>0</td>\n",
       "      <td>0</td>\n",
       "      <td>0</td>\n",
       "      <td>0</td>\n",
       "      <td>0</td>\n",
       "      <td>0</td>\n",
       "    </tr>\n",
       "    <tr>\n",
       "      <th>2</th>\n",
       "      <td>000113f07ec002fd</td>\n",
       "      <td>Hey man, I'm really not trying to edit war. It...</td>\n",
       "      <td>0</td>\n",
       "      <td>0</td>\n",
       "      <td>0</td>\n",
       "      <td>0</td>\n",
       "      <td>0</td>\n",
       "      <td>0</td>\n",
       "    </tr>\n",
       "    <tr>\n",
       "      <th>3</th>\n",
       "      <td>0001b41b1c6bb37e</td>\n",
       "      <td>\"\\nMore\\nI can't make any real suggestions on ...</td>\n",
       "      <td>0</td>\n",
       "      <td>0</td>\n",
       "      <td>0</td>\n",
       "      <td>0</td>\n",
       "      <td>0</td>\n",
       "      <td>0</td>\n",
       "    </tr>\n",
       "    <tr>\n",
       "      <th>4</th>\n",
       "      <td>0001d958c54c6e35</td>\n",
       "      <td>You, sir, are my hero. Any chance you remember...</td>\n",
       "      <td>0</td>\n",
       "      <td>0</td>\n",
       "      <td>0</td>\n",
       "      <td>0</td>\n",
       "      <td>0</td>\n",
       "      <td>0</td>\n",
       "    </tr>\n",
       "  </tbody>\n",
       "</table>\n",
       "</div>"
      ],
      "text/plain": [
       "                 id                                       comment_text  toxic  \\\n",
       "0  0000997932d777bf  Explanation\\nWhy the edits made under my usern...      0   \n",
       "1  000103f0d9cfb60f  D'aww! He matches this background colour I'm s...      0   \n",
       "2  000113f07ec002fd  Hey man, I'm really not trying to edit war. It...      0   \n",
       "3  0001b41b1c6bb37e  \"\\nMore\\nI can't make any real suggestions on ...      0   \n",
       "4  0001d958c54c6e35  You, sir, are my hero. Any chance you remember...      0   \n",
       "\n",
       "   severe_toxic  obscene  threat  insult  identity_hate  \n",
       "0             0        0       0       0              0  \n",
       "1             0        0       0       0              0  \n",
       "2             0        0       0       0              0  \n",
       "3             0        0       0       0              0  \n",
       "4             0        0       0       0              0  "
      ]
     },
     "execution_count": 125,
     "metadata": {},
     "output_type": "execute_result"
    }
   ],
   "source": [
    "train_df.head()"
   ]
  },
  {
   "cell_type": "markdown",
   "metadata": {},
   "source": [
    "### visualization - count of each label "
   ]
  },
  {
   "cell_type": "code",
   "execution_count": 155,
   "metadata": {},
   "outputs": [
    {
     "data": {
      "text/plain": [
       "<matplotlib.axes._subplots.AxesSubplot at 0x7f9d53ae2eb8>"
      ]
     },
     "execution_count": 155,
     "metadata": {},
     "output_type": "execute_result"
    },
    {
     "data": {
      "image/png": "[encoded data removed]",
      "text/plain": [
       "<Figure size 432x288 with 1 Axes>"
      ]
     },
     "metadata": {},
     "output_type": "display_data"
    }
   ],
   "source": [
    "labels = list(train_df.columns[2:])\n",
    "\n",
    "# y values\n",
    "labels_data_train = train_df.iloc[:,2:]\n",
    "labels_data_test = test_df.iloc[:,2:]\n",
    "\n",
    "labels_count = labels_data_train.sum(axis = 0)\n",
    "labels_count.plot(kind='barh')"
   ]
  },
  {
   "cell_type": "markdown",
   "metadata": {},
   "source": [
    "### count of each label - sorted"
   ]
  },
  {
   "cell_type": "code",
   "execution_count": 156,
   "metadata": {},
   "outputs": [
    {
     "data": {
      "text/html": [
       "<div>\n",
       "<style scoped>\n",
       "    .dataframe tbody tr th:only-of-type {\n",
       "        vertical-align: middle;\n",
       "    }\n",
       "\n",
       "    .dataframe tbody tr th {\n",
       "        vertical-align: top;\n",
       "    }\n",
       "\n",
       "    .dataframe thead th {\n",
       "        text-align: right;\n",
       "    }\n",
       "</style>\n",
       "<table border=\"1\" class=\"dataframe\">\n",
       "  <thead>\n",
       "    <tr style=\"text-align: right;\">\n",
       "      <th></th>\n",
       "      <th>count</th>\n",
       "    </tr>\n",
       "  </thead>\n",
       "  <tbody>\n",
       "    <tr>\n",
       "      <th>toxic</th>\n",
       "      <td>15294</td>\n",
       "    </tr>\n",
       "    <tr>\n",
       "      <th>obscene</th>\n",
       "      <td>8449</td>\n",
       "    </tr>\n",
       "    <tr>\n",
       "      <th>insult</th>\n",
       "      <td>7877</td>\n",
       "    </tr>\n",
       "    <tr>\n",
       "      <th>severe_toxic</th>\n",
       "      <td>1595</td>\n",
       "    </tr>\n",
       "    <tr>\n",
       "      <th>identity_hate</th>\n",
       "      <td>1405</td>\n",
       "    </tr>\n",
       "    <tr>\n",
       "      <th>threat</th>\n",
       "      <td>478</td>\n",
       "    </tr>\n",
       "  </tbody>\n",
       "</table>\n",
       "</div>"
      ],
      "text/plain": [
       "               count\n",
       "toxic          15294\n",
       "obscene         8449\n",
       "insult          7877\n",
       "severe_toxic    1595\n",
       "identity_hate   1405\n",
       "threat           478"
      ]
     },
     "execution_count": 156,
     "metadata": {},
     "output_type": "execute_result"
    }
   ],
   "source": [
    "pd.DataFrame(labels_count.sort_values(ascending=False), columns=['count'])"
   ]
  },
  {
   "cell_type": "markdown",
   "metadata": {},
   "source": [
    "### heatmap - correlation between labels"
   ]
  },
  {
   "cell_type": "code",
   "execution_count": 128,
   "metadata": {},
   "outputs": [
    {
     "data": {
      "text/plain": [
       "<matplotlib.axes._subplots.AxesSubplot at 0x7f9d69dc4b00>"
      ]
     },
     "execution_count": 128,
     "metadata": {},
     "output_type": "execute_result"
    },
    {
     "data": {
      "image/png": "[encoded data removed]",
      "text/plain": [
       "<Figure size 576x576 with 2 Axes>"
      ]
     },
     "metadata": {},
     "output_type": "display_data"
    }
   ],
   "source": [
    "f, ax = plt.subplots(figsize=(8, 8))\n",
    "f.suptitle('correlation between categories')\n",
    "sns.heatmap(train_df[labels].corr(), annot=True, linewidths=.9, ax=ax)"
   ]
  },
  {
   "cell_type": "markdown",
   "metadata": {},
   "source": [
    "### length of comment by class"
   ]
  },
  {
   "cell_type": "code",
   "execution_count": 185,
   "metadata": {},
   "outputs": [
    {
     "data": {
      "image/png": "[encoded data removed]",
      "text/plain": [
       "<Figure size 432x288 with 1 Axes>"
      ]
     },
     "metadata": {},
     "output_type": "display_data"
    },
    {
     "data": {
      "image/png": "[encoded data removed]",
      "text/plain": [
       "<Figure size 432x288 with 1 Axes>"
      ]
     },
     "metadata": {},
     "output_type": "display_data"
    },
    {
     "data": {
      "image/png": "[encoded data removed]",
      "text/plain": [
       "<Figure size 432x288 with 1 Axes>"
      ]
     },
     "metadata": {},
     "output_type": "display_data"
    },
    {
     "data": {
      "image/png": "[encoded data removed]",
      "text/plain": [
       "<Figure size 432x288 with 1 Axes>"
      ]
     },
     "metadata": {},
     "output_type": "display_data"
    },
    {
     "data": {
      "image/png": "[encoded data removed]",
      "text/plain": [
       "<Figure size 432x288 with 1 Axes>"
      ]
     },
     "metadata": {},
     "output_type": "display_data"
    },
    {
     "data": {
      "image/png": "[encoded data removed]",
      "text/plain": [
       "<Figure size 432x288 with 1 Axes>"
      ]
     },
     "metadata": {},
     "output_type": "display_data"
    }
   ],
   "source": [
    "colors = ['#0504aa', '#d8dcd6', '#607c8e', 'yellow', 'red', 'pink']\n",
    "i = 0\n",
    "for label in labels:\n",
    "    curr_df = train_df[train_df[label] == 1]\n",
    "    text_length = curr_df['comment_text'].apply(lambda x: len(x))\n",
    "    plt.hist(np.array(text_length), bins=200, color = colors[i])\n",
    "    i += 1\n",
    "    plt.ylabel('comment length')\n",
    "    plt.xlabel(label)\n",
    "    plt.xlim(right=1200)\n",
    "    plt.xlim(left=0)\n",
    "    plt.show()"
   ]
  },
  {
   "cell_type": "markdown",
   "metadata": {},
   "source": [
    "#\n",
    "#\n",
    "### most frequent words by class, stop words -  removed\n",
    "#\n",
    "#"
   ]
  },
  {
   "cell_type": "code",
   "execution_count": 153,
   "metadata": {},
   "outputs": [
    {
     "name": "stdout",
     "output_type": "stream",
     "text": [
      " \n",
      " The most_frequent words in ## toxic ## comments are: \n",
      "\n",
      " word: \"fuck\" count: 9938\n",
      " word: \"wikipedia\" count: 3686\n",
      " word: \"shit\" count: 3621\n",
      " word: \"like\" count: 3512\n",
      " word: \"nigger\" count: 3300\n",
      " word: \"fucking\" count: 3289\n",
      " word: \"suck\" count: 3235\n",
      " word: \"ass\" count: 2940\n",
      " word: \"hate\" count: 2631\n",
      " word: \"just\" count: 2481\n",
      " \n",
      " The most_frequent words in ## severe_toxic ## comments are: \n",
      "\n",
      " word: \"fuck\" count: 7303\n",
      " word: \"suck\" count: 2535\n",
      " word: \"ass\" count: 2114\n",
      " word: \"shit\" count: 1884\n",
      " word: \"faggot\" count: 1571\n",
      " word: \"fucking\" count: 1456\n",
      " word: \"die\" count: 1156\n",
      " word: \"bitch\" count: 1113\n",
      " word: \"nigger\" count: 1012\n",
      " word: \"sucks\" count: 961\n",
      " \n",
      " The most_frequent words in ## obscene ## comments are: \n",
      "\n",
      " word: \"fuck\" count: 9863\n",
      " word: \"shit\" count: 3212\n",
      " word: \"fucking\" count: 3192\n",
      " word: \"suck\" count: 3021\n",
      " word: \"ass\" count: 2847\n",
      " word: \"nigger\" count: 2727\n",
      " word: \"wikipedia\" count: 1911\n",
      " word: \"bitch\" count: 1795\n",
      " word: \"like\" count: 1541\n",
      " word: \"cunt\" count: 1531\n",
      " \n",
      " The most_frequent words in ## threat ## comments are: \n",
      "\n",
      " word: \"die\" count: 1168\n",
      " word: \"ass\" count: 772\n",
      " word: \"kill\" count: 504\n",
      " word: \"going\" count: 294\n",
      " word: \"wikipedia\" count: 200\n",
      " word: \"block\" count: 170\n",
      " word: \"fuck\" count: 166\n",
      " word: \"jim\" count: 158\n",
      " word: \"wales\" count: 157\n",
      " word: \"supertrnll\" count: 151\n",
      " \n",
      " The most_frequent words in ## insult ## comments are: \n",
      "\n",
      " word: \"fuck\" count: 7928\n",
      " word: \"fucking\" count: 2799\n",
      " word: \"suck\" count: 2792\n",
      " word: \"nigger\" count: 2781\n",
      " word: \"ass\" count: 2212\n",
      " word: \"fat\" count: 1926\n",
      " word: \"faggot\" count: 1867\n",
      " word: \"bitch\" count: 1733\n",
      " word: \"shit\" count: 1689\n",
      " word: \"like\" count: 1565\n",
      " \n",
      " The most_frequent words in ## identity_hate ## comments are: \n",
      "\n",
      " word: \"nigger\" count: 2969\n",
      " word: \"fat\" count: 1322\n",
      " word: \"jew\" count: 1314\n",
      " word: \"gay\" count: 918\n",
      " word: \"fuck\" count: 880\n",
      " word: \"die\" count: 879\n",
      " word: \"faggot\" count: 742\n",
      " word: \"fucking\" count: 518\n",
      " word: \"huge\" count: 430\n",
      " word: \"suck\" count: 427\n"
     ]
    }
   ],
   "source": [
    "def get_top_n_words(corpus, n=None):\n",
    "    vec = CountVectorizer(stop_words='english').fit(corpus)\n",
    "    bag_of_words = vec.transform(corpus)\n",
    "    sum_words = bag_of_words.sum(axis=0) \n",
    "    words_freq = [(word, sum_words[0, idx]) for word, idx in vec.vocabulary_.items()]\n",
    "    words_freq =sorted(words_freq, key = lambda x: x[1], reverse=True)\n",
    "    return words_freq[:n]\n",
    "\n",
    "for label in labels:\n",
    "    sub_train_df = train_df[train_df[label] == 1][\"comment_text\"]\n",
    "    most_frequent = get_top_n_words(sub_train_df, 10)\n",
    "    print(f' \\n The most_frequent words in ## {label} ## comments are: \\n')\n",
    "    for word in most_frequent:\n",
    "        print(f' word: \"{word[0]}\" count: {word[1]}')"
   ]
  },
  {
   "cell_type": "code",
   "execution_count": 130,
   "metadata": {},
   "outputs": [
    {
     "name": "stdout",
     "output_type": "stream",
     "text": [
      " toxic : num of 1 labels 15294 out of 144277 \n",
      " severe_toxic : num of 1 labels 1595 out of 157976 \n",
      " obscene : num of 1 labels 8449 out of 151122 \n",
      " threat : num of 1 labels 478 out of 159093 \n",
      " insult : num of 1 labels 7877 out of 151694 \n",
      " identity_hate : num of 1 labels 1405 out of 158166 \n"
     ]
    }
   ],
   "source": [
    "for label in labels:\n",
    "    counts = train_df[label].value_counts()\n",
    "    print(f' {label} : num of 1 labels {counts[1]} out of {counts[0]} ')"
   ]
  },
  {
   "cell_type": "markdown",
   "metadata": {},
   "source": [
    "## cleaning text"
   ]
  },
  {
   "cell_type": "code",
   "execution_count": 131,
   "metadata": {},
   "outputs": [],
   "source": [
    "def cleanData(text):    \n",
    "    text = text.lower().split()\n",
    "    text = \" \".join(text)\n",
    "    text = re.sub(r\"[^A-Za-z0-9^,!.\\/'+\\-=]\", \" \", text)\n",
    "    text = re.sub(r\"what's\", \"what is \", text)\n",
    "    text = re.sub(r\"\\'s\", \" \", text)\n",
    "    text = re.sub(r\"\\'ve\", \" have \", text)\n",
    "    text = re.sub(r\"can't\", \"cannot \", text)\n",
    "    text = re.sub(r\"n't\", \" not \", text)\n",
    "    text = re.sub(r\"i'm\", \"i am \", text)\n",
    "    text = re.sub(r\"\\'re\", \" are \", text)\n",
    "    text = re.sub(r\"\\'d\", \" would \", text)\n",
    "    text = re.sub(r\"\\'ll\", \" will \", text)\n",
    "    text = re.sub(r\",\", \" \", text)\n",
    "    text = re.sub(r\"\\.\", \" \", text)\n",
    "    text = re.sub(r\"!\", \" ! \", text)\n",
    "    text = re.sub(r\"\\/\", \" \", text)\n",
    "    text = re.sub(r\"\\^\", \" ^ \", text)\n",
    "    text = re.sub(r\"\\+\", \" + \", text)\n",
    "    text = re.sub(r\"\\-\", \" - \", text)\n",
    "    text = re.sub(r\"\\=\", \" = \", text)\n",
    "    text = re.sub(r\"'\", \" \", text)\n",
    "    text = re.sub(r\"(\\d+)(k)\", r\"\\g<1>000\", text)\n",
    "    text = re.sub(r\":\", \" : \", text)\n",
    "    text = re.sub(r\" e g \", \" eg \", text)\n",
    "    text = re.sub(r\" b g \", \" bg \", text)\n",
    "    text = re.sub(r\" u s \", \" american \", text)\n",
    "    text = re.sub(r\"\\0s\", \"0\", text)\n",
    "    text = re.sub(r\" 9 11 \", \"911\", text)\n",
    "    text = re.sub(r\"e - mail\", \"email\", text)\n",
    "    text = re.sub(r\"j k\", \"jk\", text)\n",
    "    text = re.sub(r\"\\s{2,}\", \" \", text)\n",
    "    return text\n",
    "\n",
    "special_character_removal=re.compile(r'[^a-z\\d ]',re.IGNORECASE)\n",
    "replace_numbers=re.compile(r'\\d+',re.IGNORECASE)\n",
    "\n",
    "def text_to_wordlist(text):\n",
    "    text = text.lower().split() \n",
    "    text = \" \".join(text)\n",
    "    text=special_character_removal.sub('',text)\n",
    "    text=replace_numbers.sub('n',text)\n",
    "    return(text)"
   ]
  },
  {
   "cell_type": "code",
   "execution_count": 132,
   "metadata": {},
   "outputs": [],
   "source": [
    "train_df['comment_text'] = train_df['comment_text'].map(lambda x: cleanData(x))\n",
    "test_df['comment_text'] = test_df['comment_text'].map(lambda x: cleanData(x))\n",
    "\n",
    "list_sentences_train = train_df[\"comment_text\"].fillna(\"NA\").values\n",
    "list_sentences_test = test_df[\"comment_text\"].fillna(\"NA\").values\n",
    "\n",
    "train_df[\"comment_text\"] = pd.Series([text_to_wordlist(text) for text in list_sentences_train])\n",
    "test_df[\"comment_text\"] = pd.Series([text_to_wordlist(text) for text in list_sentences_test])"
   ]
  },
  {
   "cell_type": "code",
   "execution_count": 133,
   "metadata": {},
   "outputs": [],
   "source": [
    "y_train = train_df[labels].values\n",
    "y_test = train_df[labels].values"
   ]
  },
  {
   "cell_type": "code",
   "execution_count": 134,
   "metadata": {},
   "outputs": [],
   "source": [
    "cvec = CountVectorizer()\n",
    "tvec = TfidfTransformer()"
   ]
  },
  {
   "cell_type": "code",
   "execution_count": 135,
   "metadata": {},
   "outputs": [],
   "source": [
    "# cvec = we get a Bag of Word model that has cleaned the text, removing non-aphanumeric characters and stop words.\n",
    "# bag_of_words a matrix where each row represents a specific text in corpus and each column represents a word \n",
    "# in vocabulary, that is, all words found in corpus. Note that bag_of_words[i,j] is the occurrence of word j in the text i.\n",
    "X_train = tvec.fit_transform(cvec.fit_transform(train_df['comment_text']))\n",
    "X_test = tvec.transform(cvec.transform(test_df[\"comment_text\"]))"
   ]
  },
  {
   "cell_type": "markdown",
   "metadata": {},
   "source": [
    "#\n",
    "## models\n",
    "#"
   ]
  },
  {
   "cell_type": "code",
   "execution_count": 139,
   "metadata": {},
   "outputs": [],
   "source": [
    "models = {'MultinomialNB':MultinomialNB(), 'XGBClassifier': XGBClassifier(), 'LogisticRegression':LogisticRegression(), 'SGDClassifier':SGDClassifier()}"
   ]
  },
  {
   "cell_type": "code",
   "execution_count": 144,
   "metadata": {},
   "outputs": [
    {
     "name": "stdout",
     "output_type": "stream",
     "text": [
      "\n",
      " ############# \n",
      "\n",
      "\n",
      " MultinomialNB results: \n",
      "\n",
      "Accuracy For toxic Class Is 92.47%\n",
      "Accuracy For severe_toxic Class Is 98.99%\n",
      "Accuracy For obscene Class Is 95.43%\n",
      "Accuracy For threat Class Is 99.7%\n",
      "Accuracy For insult Class Is 95.39%\n",
      "Accuracy For identity_hate Class Is 99.11%\n",
      "\n",
      " ############# \n",
      "\n",
      "\n",
      " XGBClassifier results: \n",
      "\n",
      "Accuracy For toxic Class Is 94.15%\n",
      "Accuracy For severe_toxic Class Is 99.13%\n",
      "Accuracy For obscene Class Is 97.5%\n",
      "Accuracy For threat Class Is 99.78%\n",
      "Accuracy For insult Class Is 96.81%\n",
      "Accuracy For identity_hate Class Is 99.28%\n",
      "\n",
      " ############# \n",
      "\n",
      "\n",
      " LogisticRegression results: \n",
      "\n",
      "Accuracy For toxic Class Is 96.23%\n",
      "Accuracy For severe_toxic Class Is 99.13%\n",
      "Accuracy For obscene Class Is 97.96%\n",
      "Accuracy For threat Class Is 99.73%\n",
      "Accuracy For insult Class Is 97.4%\n",
      "Accuracy For identity_hate Class Is 99.24%\n",
      "\n",
      " ############# \n",
      "\n",
      "\n",
      " SGDClassifier results: \n",
      "\n",
      "Accuracy For toxic Class Is 94.55%\n",
      "Accuracy For severe_toxic Class Is 99.0%\n",
      "Accuracy For obscene Class Is 97.48%\n",
      "Accuracy For threat Class Is 99.7%\n",
      "Accuracy For insult Class Is 96.71%\n",
      "Accuracy For identity_hate Class Is 99.14%\n"
     ]
    }
   ],
   "source": [
    "for model in models.keys():\n",
    "    print('\\n ############# \\n')\n",
    "    print(f'\\n {model} results: \\n')\n",
    "    accuracies = [[], [], []]\n",
    "    for category in labels:\n",
    "        models[model].fit(X_train, train_df[category])\n",
    "        accuracy = models[model].score(X_train, train_df[category])\n",
    "        accuracies[0].append(accuracy)\n",
    "        print(f\"Accuracy For {category} Class Is {round(accuracy*100,2)}%\")"
   ]
  },
  {
   "cell_type": "markdown",
   "metadata": {},
   "source": [
    "# Deep learning models\n",
    "### load embeddings (pretrained - glove)\n",
    "### 100 D"
   ]
  },
  {
   "cell_type": "code",
   "execution_count": null,
   "metadata": {},
   "outputs": [],
   "source": [
    "embeddings_list = []\n",
    "embeddings = {}\n",
    "f = open('./Data/glove.6B.100d.txt', encoding='utf-8')\n",
    "for line in f:\n",
    "    values = line.split()\n",
    "    word = values[0]\n",
    "    value = torch.tensor(np.asarray(values[1:], dtype='float32'))\n",
    "    embeddings[word] = value\n",
    "    embeddings_list.append(value)\n",
    "f.close()\n",
    "\n",
    "vocab_size = len(embeddings.keys())\n",
    "idx2word = dict(enumerate(embeddings.keys()))\n",
    "word2idx = dict(zip(idx2word.values(), idx2word.keys()))\n",
    "\n",
    "embeddings_vectors = torch.stack(embeddings_list)"
   ]
  },
  {
   "cell_type": "markdown",
   "metadata": {},
   "source": [
    "### models parameters"
   ]
  },
  {
   "cell_type": "code",
   "execution_count": 189,
   "metadata": {},
   "outputs": [
    {
     "name": "stderr",
     "output_type": "stream",
     "text": [
      "usage: ipykernel_launcher.py [-h] [--lr LR] [--clip CLIP] [--epochs EPOCHS]\n",
      "                             [--batch_size N] [--seed SEED] [--wdecay WDECAY]\n",
      "                             [--save SAVE] [--logging_output LOGGING_OUTPUT]\n",
      "                             [--dropout DROPOUT] [--max-norm MAX_NORM]\n",
      "                             [--kernel_num KERNEL_NUM]\n",
      "                             [--kernel_sizes KERNEL_SIZES]\n",
      "ipykernel_launcher.py: error: unrecognized arguments: -f /run/user/1000/jupyter/kernel-2266db7d-8ee6-4daa-b382-47dd45d2ffff.json\n"
     ]
    },
    {
     "ename": "SystemExit",
     "evalue": "2",
     "output_type": "error",
     "traceback": [
      "An exception has occurred, use %tb to see the full traceback.\n",
      "\u001b[0;31mSystemExit\u001b[0m\u001b[0;31m:\u001b[0m 2\n"
     ]
    }
   ],
   "source": [
    "import argparse\n",
    "\n",
    "parser = argparse.ArgumentParser(description='toxic_comments_classification Model')\n",
    "\n",
    "parser.add_argument('--lr', type=float, default=1e-3, help='initial learning rate')\n",
    "parser.add_argument('--clip', type=float, default=0.25, help='gradient clipping')\n",
    "parser.add_argument('--epochs', type=int, default=1000, help='upper epoch limit')\n",
    "parser.add_argument('--batch_size', type=int, default=256, metavar='N', help='batch size')\n",
    "parser.add_argument('--seed', type=int, default=1234, help='random seed')\n",
    "parser.add_argument('--wdecay', type=float, default=5e-5, help='weight decay applied to all weights')\n",
    "parser.add_argument('--save', type=str, default='toxic_comments_classification.pt', help='path to save the final model')\n",
    "parser.add_argument('--logging_output', type=str, default='', help='logging output file name')\n",
    "parser.add_argument('--dropout', type=float, default=0.5, help='the probability for dropout [default: 0.5]')\n",
    "parser.add_argument('--max-norm', type=float, default=3.0, help='l2 constraint of parameters [default: 3.0]')\n",
    "parser.add_argument('--kernel_num', type=int, default=50, help='number of each kind of kernel')\n",
    "parser.add_argument('--kernel_sizes', type=str, default='3,4,5', help='comma-separated kernel sizes for convolution')\n",
    "\n",
    "args = parser.parse_args()"
   ]
  },
  {
   "cell_type": "code",
   "execution_count": null,
   "metadata": {},
   "outputs": [],
   "source": [
    "train_df['comment_text'] = train_df['comment_text'].map(lambda x: cleanData(x))\n",
    "\n",
    "list_sentences_train = train_df[\"comment_text\"].fillna(\"NA\").values\n",
    "list_classes = [\"toxic\", \"severe_toxic\", \"obscene\", \"threat\", \"insult\", \"identity_hate\"]\n",
    "y = train_df[list_classes].values\n",
    "list_sentences_test = test_df[\"comment_text\"].fillna(\"NA\").values\n",
    "\n",
    "comments = []\n",
    "for text in tqdm(list_sentences_train):\n",
    "    comments.append(text_to_wordlist(text))\n",
    "\n",
    "train_df['comment_text'] = pd.Series(comments)\n",
    "\n",
    "test_comments = []\n",
    "for text in list_sentences_test:\n",
    "    test_comments.append(text_to_wordlist(text).strip())"
   ]
  },
  {
   "cell_type": "code",
   "execution_count": 194,
   "metadata": {},
   "outputs": [],
   "source": [
    "def get_batch(data):\n",
    "    remainder = len(data) % batch_size\n",
    "    for j in range(0, len(data) - remainder, batch_size):\n",
    "        batch_data = data[j:j + batch_size, :]\n",
    "        yield batch_data\n",
    "    if remainder > 0:\n",
    "        yield data[j:, :]\n",
    "\n",
    "\n",
    "def clip_gradient(model, clip_value):\n",
    "    params = list(filter(lambda p: p.grad is not None, model.parameters()))\n",
    "    for p in params:\n",
    "        p.grad.data.clamp_(-clip_value, clip_value)\n",
    "\n",
    "\n",
    "def train_model(model, data, epoch):\n",
    "    total_epoch_loss = 0\n",
    "    model.to(device)\n",
    "    np.random.shuffle(data)\n",
    "    optim = torch.optim.Adam(filter(lambda p: p.requires_grad, model.parameters()), lr=args.lr)\n",
    "    steps = 0\n",
    "    model.train()\n",
    "    my_generator = get_batch(data)\n",
    "    batches_range = int((len(data) - 1) / batch_size)\n",
    "    for iter in tqdm(range(batches_range)):\n",
    "        batch = next(my_generator)\n",
    "        comments = batch[:, 1]\n",
    "        words = []\n",
    "        for comment in comments:\n",
    "            words.append(torch.tensor([word2idx[word] for word in comment.strip().split() if word in word2idx.keys()]))\n",
    "        targets = torch.autograd.Variable(torch.tensor(np.array(batch[:, 2:]).astype('float16'))).long().to(device)\n",
    "        optim.zero_grad()\n",
    "        prediction = model(torch.stack(words).to(device), 1)\n",
    "        loss = loss_fn(torch.tensor(prediction, requires_grad=True).to(device), targets.to(device).float())\n",
    "        loss.backward()\n",
    "        clip_gradient(model, args.clip)\n",
    "        optim.step()\n",
    "        steps += 1\n",
    "        total_epoch_loss += loss.item()\n",
    "    return total_epoch_loss / steps\n",
    "\n",
    "\n",
    "def accuracy(logits, labels):\n",
    "    \"\"\"\n",
    "    calculate the accuracy\n",
    "    :param logits: Variable [batch_size, ]\n",
    "    :param labels: Variable [batch_size]\n",
    "    :return:\n",
    "    \"\"\"\n",
    "    logits = torch.tensor(logits).data\n",
    "    labels = labels.data\n",
    "    logits[logits > .5] = 1\n",
    "    logits[logits <= .5] = 0\n",
    "\n",
    "    return torch.mean((logits.long() == labels.cpu().long()).type(torch.cuda.FloatTensor))\n",
    "\n",
    "\n",
    "def eval_model(model, data):\n",
    "    total_epoch_loss = 0\n",
    "    total_epoch_acc = 0\n",
    "    model.eval()\n",
    "    steps = 0\n",
    "    batches_range = int((len(data) - 1) / batch_size)\n",
    "    for iter in tqdm(range(batches_range)):\n",
    "        batch = next(my_generator)\n",
    "        comments = batch[:, 1]\n",
    "        words = []\n",
    "        for comment in comments:\n",
    "            words.append(torch.tensor([word2idx[word] for word in comment.strip().split() if word in word2idx.keys()]))\n",
    "        targets = torch.autograd.Variable(torch.tensor(np.array(batch[:, 2:]).astype('float16'))).long().to(device)\n",
    "        prediction = model(torch.stack(words).to(device), 1)\n",
    "        loss = loss_fn(torch.tensor(prediction, requires_grad=True).to(device), targets.to(device).float())\n",
    "        total_epoch_loss += loss.item()\n",
    "        steps += 1\n",
    "\n",
    "    return total_epoch_loss / steps"
   ]
  },
  {
   "cell_type": "code",
   "execution_count": 193,
   "metadata": {},
   "outputs": [],
   "source": [
    "class LSTM_model(nn.Module):\n",
    "    def __init__(self, batch_size, output_size, hidden_size, vocab_size, embedding_length, embeddings_vectors):\n",
    "        super(LSTM_model, self).__init__()\n",
    "        self.batch_size = batch_size\n",
    "        self.output_size = output_size\n",
    "        self.hidden_size = hidden_size\n",
    "        self.embedding_length = embedding_length\n",
    "        self.embed = nn.Embedding(vocab_size, embedding_length)\n",
    "        self.embed.weight.data.copy_(embeddings_vectors)\n",
    "        # not to update glove\n",
    "        self.embed.weight.requires_grad = False\n",
    "        for p in self.embed.parameters():\n",
    "            if p.requires_grad:\n",
    "                p.requires_grad = False\n",
    "        self.lstm = nn.LSTM(embedding_length, hidden_size)\n",
    "        self.label = nn.Linear(hidden_size, output_size)\n",
    "\n",
    "    def forward(self, input_sen, batch_size):\n",
    "        embeded = self.embed(input_sen)  # (batch_size, sen_len,  embedding_length)\n",
    "        embeded = embeded.permute(1, 0, 2)  # (sen_len, batch_size, embedding_length)\n",
    "        if batch_size is None:\n",
    "            h_0 = Variable(torch.zeros(1, self.batch_size, self.hidden_size).cuda())  # Initial hidden state\n",
    "            c_0 = Variable(torch.zeros(1, self.batch_size, self.hidden_size).cuda())  # Initial cell state\n",
    "        else:\n",
    "            h_0 = Variable(torch.zeros(1, batch_size, self.hidden_size).cuda())\n",
    "            c_0 = Variable(torch.zeros(1, batch_size, self.hidden_size).cuda())\n",
    "        output, (last_hidden_state, final_cell_state) = self.lstm(embeded, (h_0, c_0))\n",
    "        curr_output = self.label(last_hidden_state[-1])  \n",
    "        # last_hidden_state = (1, batch_size, hidden_size) \n",
    "        # final_output = (batch_size, output_size)\n",
    "        return curr_output"
   ]
  },
  {
   "cell_type": "code",
   "execution_count": 192,
   "metadata": {},
   "outputs": [],
   "source": [
    "class CNN_classifier(nn.Module):\n",
    "    def __init__(self, batch_size, output_size, in_channels, out_channels, kernels, stride, padding, keep_probab,\n",
    "                 vocab_size, embedding_length, weights):\n",
    "        super(CNN_classifier, self).__init__()\n",
    "        self.batch_size = batch_size\n",
    "        self.output_size = output_size\n",
    "        self.kernels = kernels\n",
    "        self.stride = stride\n",
    "        self.padding = padding\n",
    "        self.in_channels = in_channels\n",
    "        self.out_channels = out_channels\n",
    "        self.vocab_size = vocab_size\n",
    "        self.embedding_length = embedding_length\n",
    "        self.embed = nn.Embedding(vocab_size, embedding_length)\n",
    "        self.embed.weight.data.copy_(embeddings_vectors)\n",
    "        # not to update glove\n",
    "        self.embed.weight.requires_grad = False\n",
    "        for p in self.embed.parameters():\n",
    "            if p.requires_grad:\n",
    "                p.requires_grad = False\n",
    "        self.conv1 = nn.Conv2d(in_channels=in_channels, out_channels=out_channels, kernel_size=(kernels[0], embedding_length))\n",
    "        self.conv2 = nn.Conv2d(in_channels=in_channels, out_channels=out_channels, kernel_size=(kernels[1], embedding_length))\n",
    "        self.conv3 = nn.Conv2d(in_channels=in_channels, out_channels=out_channels, kernel_size=(kernels[2], embedding_length))\n",
    "        self.dropout = nn.Dropout(keep_probab)\n",
    "        self.last_linear = nn.Linear(len(kernels) * out_channels, output_size)\n",
    "\n",
    "    def conv_and_pool(self, input, conv_layer):\n",
    "        conv_out = conv_layer(input) \n",
    "        activation = F.relu(conv_out.squeeze(3))\n",
    "        max_out = F.max_pool1d(activation, activation.size()[2]).squeeze(2)\n",
    "        return max_out\n",
    "\n",
    "    def forward(self, sentences, batch_size=None):\n",
    "        embedded = self.embed(sentences)\n",
    "        embedded = embedded.unsqueeze(1) # (batch_size, 1, sen_len, embedding_length)\n",
    "        max_out1 = self.conv_and_pool(embedded, self.conv1)\n",
    "        max_out2 = self.conv_and_pool(embedded, self.conv2)\n",
    "        max_out3 = self.conv_and_pool(embedded, self.conv3)\n",
    "\n",
    "        all_out = torch.cat((max_out1, max_out2, max_out3), 1)\n",
    "        # (batch_size, num_kernels*out_channels)\n",
    "        fc = self.dropout(all_out)\n",
    "        # (batch_size, num_kernels*out_channels)\n",
    "        logits = self.last_linear(fc)\n",
    "\n",
    "        return logits"
   ]
  },
  {
   "cell_type": "code",
   "execution_count": null,
   "metadata": {},
   "outputs": [],
   "source": [
    "learning_rate = args.lr\n",
    "batch_size = 1\n",
    "output_size = 6\n",
    "hidden_size = 256\n",
    "embedding_length = 100\n",
    "\n",
    "device = torch.device(\"cuda:0\" if torch.cuda.is_available() else \"cpu\")\n",
    "\n",
    "model = LSTM_model(batch_size, output_size, hidden_size, vocab_size, embedding_length, embeddings_vectors).to(device)\n",
    "\n",
    "# good loss for multilabel classification\n",
    "loss_fn = nn.BCEWithLogitsLoss().to(device)\n",
    "\n",
    "for epoch in range(args.epochs):\n",
    "    start = time.time()\n",
    "    train_loss = train_model(model, train_df.values, epoch)\n",
    "    print('  - (Training)   loss: {loss: 8.5f}, ' 'elapse: {elapse:3.3f} min'.format(\n",
    "        loss=train_loss,\n",
    "        elapse=(time.time() - start) / 60))\n",
    "\n",
    "test_loss = eval_model(model, test_iter)\n",
    "print(f'Test Loss: {test_loss:.3f}')"
   ]
  }
 ],
 "metadata": {
  "kernelspec": {
   "display_name": "Python 3",
   "language": "python",
   "name": "python3"
  },
  "language_info": {
   "codemirror_mode": {
    "name": "ipython",
    "version": 3
   },
   "file_extension": ".py",
   "mimetype": "text/x-python",
   "name": "python",
   "nbconvert_exporter": "python",
   "pygments_lexer": "ipython3",
   "version": "3.6.8"
  }
 },
 "nbformat": 4,
 "nbformat_minor": 2
}
